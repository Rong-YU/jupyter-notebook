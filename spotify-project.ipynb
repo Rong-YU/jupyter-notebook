{
 "cells": [
  {
   "cell_type": "markdown",
   "metadata": {},
   "source": [
    "# Setup 💻 (do not forget to run these cells before starting 👇)"
   ]
  },
  {
   "cell_type": "markdown",
   "metadata": {},
   "source": [
    "## 1. Importing Libraries"
   ]
  },
  {
   "cell_type": "code",
   "execution_count": 140,
   "metadata": {
    "ExecuteTime": {
     "end_time": "2020-09-27T18:10:59.565886Z",
     "start_time": "2020-09-27T18:10:58.349400Z"
    }
   },
   "outputs": [],
   "source": [
    "import pandas as pd\n",
    "import numpy as np\n",
    "import matplotlib.pyplot as plt\n",
    "import seaborn as sns"
   ]
  },
  {
   "cell_type": "markdown",
   "metadata": {
    "ExecuteTime": {
     "end_time": "2020-09-27T18:10:59.695147Z",
     "start_time": "2020-09-27T18:10:59.567829Z"
    }
   },
   "source": [
    "## 2. Loading Spotify dataset"
   ]
  },
  {
   "cell_type": "code",
   "execution_count": 141,
   "metadata": {
    "ExecuteTime": {
     "end_time": "2020-09-27T18:11:00.172221Z",
     "start_time": "2020-09-27T18:10:59.699946Z"
    }
   },
   "outputs": [],
   "source": [
    "df = pd.read_csv('https://storage.googleapis.com/introduction-to-data-science/spotify-dataset.csv')"
   ]
  },
  {
   "cell_type": "markdown",
   "metadata": {},
   "source": [
    "----------"
   ]
  },
  {
   "cell_type": "markdown",
   "metadata": {},
   "source": [
    "# Your Assignement starts here 🔥"
   ]
  },
  {
   "cell_type": "markdown",
   "metadata": {},
   "source": [
    "## 1. Can you display the first 10 row of the dataset? "
   ]
  },
  {
   "cell_type": "code",
   "execution_count": 142,
   "metadata": {},
   "outputs": [
    {
     "data": {
      "text/html": [
       "<div>\n",
       "<style scoped>\n",
       "    .dataframe tbody tr th:only-of-type {\n",
       "        vertical-align: middle;\n",
       "    }\n",
       "\n",
       "    .dataframe tbody tr th {\n",
       "        vertical-align: top;\n",
       "    }\n",
       "\n",
       "    .dataframe thead th {\n",
       "        text-align: right;\n",
       "    }\n",
       "</style>\n",
       "<table border=\"1\" class=\"dataframe\">\n",
       "  <thead>\n",
       "    <tr style=\"text-align: right;\">\n",
       "      <th></th>\n",
       "      <th>acousticness</th>\n",
       "      <th>artists</th>\n",
       "      <th>danceability</th>\n",
       "      <th>duration_ms</th>\n",
       "      <th>energy</th>\n",
       "      <th>explicit</th>\n",
       "      <th>id</th>\n",
       "      <th>instrumentalness</th>\n",
       "      <th>key</th>\n",
       "      <th>liveness</th>\n",
       "      <th>loudness</th>\n",
       "      <th>mode</th>\n",
       "      <th>name</th>\n",
       "      <th>popularity</th>\n",
       "      <th>release_date</th>\n",
       "      <th>speechiness</th>\n",
       "      <th>tempo</th>\n",
       "      <th>valence</th>\n",
       "      <th>year</th>\n",
       "    </tr>\n",
       "  </thead>\n",
       "  <tbody>\n",
       "    <tr>\n",
       "      <th>0</th>\n",
       "      <td>0.995</td>\n",
       "      <td>['Carl Woitschach']</td>\n",
       "      <td>0.708</td>\n",
       "      <td>158648</td>\n",
       "      <td>0.1950</td>\n",
       "      <td>0</td>\n",
       "      <td>6KbQ3uYMLKb5jDxLF7wYDD</td>\n",
       "      <td>0.563</td>\n",
       "      <td>10</td>\n",
       "      <td>0.1510</td>\n",
       "      <td>-12.428</td>\n",
       "      <td>1</td>\n",
       "      <td>Singende Bataillone 1. Teil</td>\n",
       "      <td>0</td>\n",
       "      <td>1928</td>\n",
       "      <td>0.0506</td>\n",
       "      <td>118.469</td>\n",
       "      <td>0.7790</td>\n",
       "      <td>1928</td>\n",
       "    </tr>\n",
       "    <tr>\n",
       "      <th>1</th>\n",
       "      <td>0.994</td>\n",
       "      <td>['Robert Schumann', 'Vladimir Horowitz']</td>\n",
       "      <td>0.379</td>\n",
       "      <td>282133</td>\n",
       "      <td>0.0135</td>\n",
       "      <td>0</td>\n",
       "      <td>6KuQTIu1KoTTkLXKrwlLPV</td>\n",
       "      <td>0.901</td>\n",
       "      <td>8</td>\n",
       "      <td>0.0763</td>\n",
       "      <td>-28.454</td>\n",
       "      <td>1</td>\n",
       "      <td>Fantasiestücke, Op. 111: Più tosto lento</td>\n",
       "      <td>0</td>\n",
       "      <td>1928</td>\n",
       "      <td>0.0462</td>\n",
       "      <td>83.972</td>\n",
       "      <td>0.0767</td>\n",
       "      <td>1928</td>\n",
       "    </tr>\n",
       "    <tr>\n",
       "      <th>2</th>\n",
       "      <td>0.604</td>\n",
       "      <td>['Seweryn Goszczyński']</td>\n",
       "      <td>0.749</td>\n",
       "      <td>104300</td>\n",
       "      <td>0.2200</td>\n",
       "      <td>0</td>\n",
       "      <td>6L63VW0PibdM1HDSBoqnoM</td>\n",
       "      <td>0.000</td>\n",
       "      <td>5</td>\n",
       "      <td>0.1190</td>\n",
       "      <td>-19.924</td>\n",
       "      <td>0</td>\n",
       "      <td>Chapter 1.18 - Zamek kaniowski</td>\n",
       "      <td>0</td>\n",
       "      <td>1928</td>\n",
       "      <td>0.9290</td>\n",
       "      <td>107.177</td>\n",
       "      <td>0.8800</td>\n",
       "      <td>1928</td>\n",
       "    </tr>\n",
       "    <tr>\n",
       "      <th>3</th>\n",
       "      <td>0.995</td>\n",
       "      <td>['Francisco Canaro']</td>\n",
       "      <td>0.781</td>\n",
       "      <td>180760</td>\n",
       "      <td>0.1300</td>\n",
       "      <td>0</td>\n",
       "      <td>6M94FkXd15sOAOQYRnWPN8</td>\n",
       "      <td>0.887</td>\n",
       "      <td>1</td>\n",
       "      <td>0.1110</td>\n",
       "      <td>-14.734</td>\n",
       "      <td>0</td>\n",
       "      <td>Bebamos Juntos - Instrumental (Remasterizado)</td>\n",
       "      <td>0</td>\n",
       "      <td>1928-09-25</td>\n",
       "      <td>0.0926</td>\n",
       "      <td>108.003</td>\n",
       "      <td>0.7200</td>\n",
       "      <td>1928</td>\n",
       "    </tr>\n",
       "    <tr>\n",
       "      <th>4</th>\n",
       "      <td>0.990</td>\n",
       "      <td>['Frédéric Chopin', 'Vladimir Horowitz']</td>\n",
       "      <td>0.210</td>\n",
       "      <td>687733</td>\n",
       "      <td>0.2040</td>\n",
       "      <td>0</td>\n",
       "      <td>6N6tiFZ9vLTSOIxkj8qKrd</td>\n",
       "      <td>0.908</td>\n",
       "      <td>11</td>\n",
       "      <td>0.0980</td>\n",
       "      <td>-16.829</td>\n",
       "      <td>1</td>\n",
       "      <td>Polonaise-Fantaisie in A-Flat Major, Op. 61</td>\n",
       "      <td>1</td>\n",
       "      <td>1928</td>\n",
       "      <td>0.0424</td>\n",
       "      <td>62.149</td>\n",
       "      <td>0.0693</td>\n",
       "      <td>1928</td>\n",
       "    </tr>\n",
       "    <tr>\n",
       "      <th>5</th>\n",
       "      <td>0.995</td>\n",
       "      <td>['Felix Mendelssohn', 'Vladimir Horowitz']</td>\n",
       "      <td>0.424</td>\n",
       "      <td>352600</td>\n",
       "      <td>0.1200</td>\n",
       "      <td>0</td>\n",
       "      <td>6NxAf7M8DNHOBTmEd3JSO5</td>\n",
       "      <td>0.911</td>\n",
       "      <td>6</td>\n",
       "      <td>0.0915</td>\n",
       "      <td>-19.242</td>\n",
       "      <td>0</td>\n",
       "      <td>Scherzo a capriccio: Presto</td>\n",
       "      <td>0</td>\n",
       "      <td>1928</td>\n",
       "      <td>0.0593</td>\n",
       "      <td>63.521</td>\n",
       "      <td>0.2660</td>\n",
       "      <td>1928</td>\n",
       "    </tr>\n",
       "    <tr>\n",
       "      <th>6</th>\n",
       "      <td>0.956</td>\n",
       "      <td>['Franz Liszt', 'Vladimir Horowitz']</td>\n",
       "      <td>0.444</td>\n",
       "      <td>136627</td>\n",
       "      <td>0.1970</td>\n",
       "      <td>0</td>\n",
       "      <td>6O0puPuyrxPjDTHDUgsWI7</td>\n",
       "      <td>0.435</td>\n",
       "      <td>11</td>\n",
       "      <td>0.0744</td>\n",
       "      <td>-17.226</td>\n",
       "      <td>1</td>\n",
       "      <td>Valse oubliée No. 1 in F-Sharp Major, S. 215/1</td>\n",
       "      <td>0</td>\n",
       "      <td>1928</td>\n",
       "      <td>0.0400</td>\n",
       "      <td>80.495</td>\n",
       "      <td>0.3050</td>\n",
       "      <td>1928</td>\n",
       "    </tr>\n",
       "    <tr>\n",
       "      <th>7</th>\n",
       "      <td>0.988</td>\n",
       "      <td>['Carl Woitschach']</td>\n",
       "      <td>0.555</td>\n",
       "      <td>153967</td>\n",
       "      <td>0.4210</td>\n",
       "      <td>0</td>\n",
       "      <td>6OJjveoYwJdIt76y0Pxpxw</td>\n",
       "      <td>0.836</td>\n",
       "      <td>1</td>\n",
       "      <td>0.1050</td>\n",
       "      <td>-9.878</td>\n",
       "      <td>1</td>\n",
       "      <td>Per aspera ad astra</td>\n",
       "      <td>0</td>\n",
       "      <td>1928</td>\n",
       "      <td>0.0474</td>\n",
       "      <td>123.310</td>\n",
       "      <td>0.8570</td>\n",
       "      <td>1928</td>\n",
       "    </tr>\n",
       "    <tr>\n",
       "      <th>8</th>\n",
       "      <td>0.995</td>\n",
       "      <td>['Francisco Canaro', 'Charlo']</td>\n",
       "      <td>0.683</td>\n",
       "      <td>162493</td>\n",
       "      <td>0.2070</td>\n",
       "      <td>0</td>\n",
       "      <td>6OaJ8Bh7lsBeYoBmwmo2nh</td>\n",
       "      <td>0.206</td>\n",
       "      <td>9</td>\n",
       "      <td>0.3370</td>\n",
       "      <td>-9.801</td>\n",
       "      <td>0</td>\n",
       "      <td>Moneda Corriente - Remasterizado</td>\n",
       "      <td>0</td>\n",
       "      <td>1928-10-03</td>\n",
       "      <td>0.1270</td>\n",
       "      <td>119.833</td>\n",
       "      <td>0.4930</td>\n",
       "      <td>1928</td>\n",
       "    </tr>\n",
       "    <tr>\n",
       "      <th>9</th>\n",
       "      <td>0.846</td>\n",
       "      <td>['Seweryn Goszczyński']</td>\n",
       "      <td>0.674</td>\n",
       "      <td>111600</td>\n",
       "      <td>0.2050</td>\n",
       "      <td>0</td>\n",
       "      <td>6PrZexNb16cabXR8Q418Xc</td>\n",
       "      <td>0.000</td>\n",
       "      <td>9</td>\n",
       "      <td>0.1700</td>\n",
       "      <td>-20.119</td>\n",
       "      <td>1</td>\n",
       "      <td>Chapter 1.3 - Zamek kaniowski</td>\n",
       "      <td>0</td>\n",
       "      <td>1928</td>\n",
       "      <td>0.9540</td>\n",
       "      <td>81.249</td>\n",
       "      <td>0.7590</td>\n",
       "      <td>1928</td>\n",
       "    </tr>\n",
       "  </tbody>\n",
       "</table>\n",
       "</div>"
      ],
      "text/plain": [
       "   acousticness                                     artists  danceability  \\\n",
       "0         0.995                         ['Carl Woitschach']         0.708   \n",
       "1         0.994    ['Robert Schumann', 'Vladimir Horowitz']         0.379   \n",
       "2         0.604                     ['Seweryn Goszczyński']         0.749   \n",
       "3         0.995                        ['Francisco Canaro']         0.781   \n",
       "4         0.990    ['Frédéric Chopin', 'Vladimir Horowitz']         0.210   \n",
       "5         0.995  ['Felix Mendelssohn', 'Vladimir Horowitz']         0.424   \n",
       "6         0.956        ['Franz Liszt', 'Vladimir Horowitz']         0.444   \n",
       "7         0.988                         ['Carl Woitschach']         0.555   \n",
       "8         0.995              ['Francisco Canaro', 'Charlo']         0.683   \n",
       "9         0.846                     ['Seweryn Goszczyński']         0.674   \n",
       "\n",
       "   duration_ms  energy  explicit                      id  instrumentalness  \\\n",
       "0       158648  0.1950         0  6KbQ3uYMLKb5jDxLF7wYDD             0.563   \n",
       "1       282133  0.0135         0  6KuQTIu1KoTTkLXKrwlLPV             0.901   \n",
       "2       104300  0.2200         0  6L63VW0PibdM1HDSBoqnoM             0.000   \n",
       "3       180760  0.1300         0  6M94FkXd15sOAOQYRnWPN8             0.887   \n",
       "4       687733  0.2040         0  6N6tiFZ9vLTSOIxkj8qKrd             0.908   \n",
       "5       352600  0.1200         0  6NxAf7M8DNHOBTmEd3JSO5             0.911   \n",
       "6       136627  0.1970         0  6O0puPuyrxPjDTHDUgsWI7             0.435   \n",
       "7       153967  0.4210         0  6OJjveoYwJdIt76y0Pxpxw             0.836   \n",
       "8       162493  0.2070         0  6OaJ8Bh7lsBeYoBmwmo2nh             0.206   \n",
       "9       111600  0.2050         0  6PrZexNb16cabXR8Q418Xc             0.000   \n",
       "\n",
       "   key  liveness  loudness  mode  \\\n",
       "0   10    0.1510   -12.428     1   \n",
       "1    8    0.0763   -28.454     1   \n",
       "2    5    0.1190   -19.924     0   \n",
       "3    1    0.1110   -14.734     0   \n",
       "4   11    0.0980   -16.829     1   \n",
       "5    6    0.0915   -19.242     0   \n",
       "6   11    0.0744   -17.226     1   \n",
       "7    1    0.1050    -9.878     1   \n",
       "8    9    0.3370    -9.801     0   \n",
       "9    9    0.1700   -20.119     1   \n",
       "\n",
       "                                             name  popularity release_date  \\\n",
       "0                     Singende Bataillone 1. Teil           0         1928   \n",
       "1        Fantasiestücke, Op. 111: Più tosto lento           0         1928   \n",
       "2                  Chapter 1.18 - Zamek kaniowski           0         1928   \n",
       "3   Bebamos Juntos - Instrumental (Remasterizado)           0   1928-09-25   \n",
       "4     Polonaise-Fantaisie in A-Flat Major, Op. 61           1         1928   \n",
       "5                     Scherzo a capriccio: Presto           0         1928   \n",
       "6  Valse oubliée No. 1 in F-Sharp Major, S. 215/1           0         1928   \n",
       "7                             Per aspera ad astra           0         1928   \n",
       "8                Moneda Corriente - Remasterizado           0   1928-10-03   \n",
       "9                   Chapter 1.3 - Zamek kaniowski           0         1928   \n",
       "\n",
       "   speechiness    tempo  valence  year  \n",
       "0       0.0506  118.469   0.7790  1928  \n",
       "1       0.0462   83.972   0.0767  1928  \n",
       "2       0.9290  107.177   0.8800  1928  \n",
       "3       0.0926  108.003   0.7200  1928  \n",
       "4       0.0424   62.149   0.0693  1928  \n",
       "5       0.0593   63.521   0.2660  1928  \n",
       "6       0.0400   80.495   0.3050  1928  \n",
       "7       0.0474  123.310   0.8570  1928  \n",
       "8       0.1270  119.833   0.4930  1928  \n",
       "9       0.9540   81.249   0.7590  1928  "
      ]
     },
     "execution_count": 142,
     "metadata": {},
     "output_type": "execute_result"
    }
   ],
   "source": [
    "# Your code goes here 💪\n",
    "df.head(10)"
   ]
  },
  {
   "cell_type": "markdown",
   "metadata": {
    "ExecuteTime": {
     "end_time": "2020-09-27T15:37:53.023017Z",
     "start_time": "2020-09-27T15:37:53.019512Z"
    }
   },
   "source": [
    "## 2. Are there any missing values in the dataset?"
   ]
  },
  {
   "cell_type": "code",
   "execution_count": 143,
   "metadata": {},
   "outputs": [
    {
     "data": {
      "text/plain": [
       "0"
      ]
     },
     "execution_count": 143,
     "metadata": {},
     "output_type": "execute_result"
    }
   ],
   "source": [
    "# Your code goes here 💪\n",
    "df.isnull().sum().sum()\n",
    "# no missing values"
   ]
  },
  {
   "cell_type": "markdown",
   "metadata": {
    "ExecuteTime": {
     "end_time": "2020-09-27T15:38:37.540621Z",
     "start_time": "2020-09-27T15:38:37.536934Z"
    }
   },
   "source": [
    "## 3. How many songs are there in the dataset?"
   ]
  },
  {
   "cell_type": "code",
   "execution_count": 144,
   "metadata": {},
   "outputs": [
    {
     "data": {
      "text/plain": [
       "169909"
      ]
     },
     "execution_count": 144,
     "metadata": {},
     "output_type": "execute_result"
    }
   ],
   "source": [
    "# Your code goes here 💪\n",
    "len(df.index)"
   ]
  },
  {
   "cell_type": "markdown",
   "metadata": {},
   "source": [
    "## 4. How many artists?"
   ]
  },
  {
   "cell_type": "code",
   "execution_count": 145,
   "metadata": {},
   "outputs": [],
   "source": [
    "# Your code goes here 💪\n",
    "from ast import literal_eval\n",
    "\n",
    "df['artists'] = df['artists'].apply(literal_eval) #convert to list type\n",
    "artists = df['artists'].explode()\n"
   ]
  },
  {
   "cell_type": "code",
   "execution_count": 146,
   "metadata": {},
   "outputs": [
    {
     "name": "stdout",
     "output_type": "stream",
     "text": [
      "27622 artists\n"
     ]
    }
   ],
   "source": [
    "print(len(artists.unique()), 'artists')"
   ]
  },
  {
   "cell_type": "markdown",
   "metadata": {},
   "source": [
    "## 5. What's the average duration of a song, in minutes?"
   ]
  },
  {
   "cell_type": "code",
   "execution_count": 147,
   "metadata": {},
   "outputs": [
    {
     "name": "stdout",
     "output_type": "stream",
     "text": [
      "3.856769316222256\n"
     ]
    }
   ],
   "source": [
    "# Your code goes here 💪\n",
    "df[\"duration_m\"] = df[\"duration_ms\"].apply(lambda x: x/(1000*60))\n",
    "print(df[\"duration_m\"].mean())"
   ]
  },
  {
   "cell_type": "markdown",
   "metadata": {},
   "source": [
    "## 6. Can you plot the distribution of the durations?"
   ]
  },
  {
   "cell_type": "code",
   "execution_count": 148,
   "metadata": {},
   "outputs": [
    {
     "data": {
      "text/plain": [
       "(array([1.66648e+05, 2.88200e+03, 2.73000e+02, 6.50000e+01, 2.40000e+01,\n",
       "        6.00000e+00, 5.00000e+00, 5.00000e+00, 0.00000e+00, 1.00000e+00]),\n",
       " array([8.51333333e-02, 9.08245333e+00, 1.80797733e+01, 2.70770933e+01,\n",
       "        3.60744133e+01, 4.50717333e+01, 5.40690533e+01, 6.30663733e+01,\n",
       "        7.20636933e+01, 8.10610133e+01, 9.00583333e+01]),\n",
       " <BarContainer object of 10 artists>)"
      ]
     },
     "execution_count": 148,
     "metadata": {},
     "output_type": "execute_result"
    },
    {
     "data": {
      "image/png": "[encoded data removed]",
      "text/plain": [
       "<Figure size 640x480 with 1 Axes>"
      ]
     },
     "metadata": {},
     "output_type": "display_data"
    }
   ],
   "source": [
    "# Your code goes here 💪\n",
    "plt.hist(df['duration_m'])\n"
   ]
  },
  {
   "cell_type": "markdown",
   "metadata": {},
   "source": [
    "## 7. [Follow-up] Can you make this plot more readable by removing outliers (extreme values)?"
   ]
  },
  {
   "cell_type": "code",
   "execution_count": 149,
   "metadata": {},
   "outputs": [
    {
     "data": {
      "text/plain": [
       "(array([ 2806., 19887., 71633., 45813., 16646.,  6034.,  2808.,  1579.,\n",
       "          898.,   525.]),\n",
       " array([ 0.08513333,  1.27110833,  2.45708333,  3.64305833,  4.82903333,\n",
       "         6.01500833,  7.20098333,  8.38695833,  9.57293333, 10.75890833,\n",
       "        11.94488333]),\n",
       " <BarContainer object of 10 artists>)"
      ]
     },
     "execution_count": 149,
     "metadata": {},
     "output_type": "execute_result"
    },
    {
     "data": {
      "image/png": "[encoded data removed]",
      "text/plain": [
       "<Figure size 640x480 with 1 Axes>"
      ]
     },
     "metadata": {},
     "output_type": "display_data"
    }
   ],
   "source": [
    "# Your code goes here 💪\n",
    "mean = df['duration_m'].mean()\n",
    "std = df['duration_m'].std()\n",
    "data = np.array(df['duration_m'])\n",
    "plt.hist(data[data <= mean+(4*std)])"
   ]
  },
  {
   "cell_type": "markdown",
   "metadata": {},
   "source": [
    "We only remove 470 songs (out of almost 170k) and get a way more interesting plot!"
   ]
  },
  {
   "cell_type": "markdown",
   "metadata": {},
   "source": [
    "## 8. What are the top 10 longest songs (duration)?"
   ]
  },
  {
   "cell_type": "code",
   "execution_count": 161,
   "metadata": {},
   "outputs": [
    {
     "data": {
      "text/html": [
       "<div>\n",
       "<style scoped>\n",
       "    .dataframe tbody tr th:only-of-type {\n",
       "        vertical-align: middle;\n",
       "    }\n",
       "\n",
       "    .dataframe tbody tr th {\n",
       "        vertical-align: top;\n",
       "    }\n",
       "\n",
       "    .dataframe thead th {\n",
       "        text-align: right;\n",
       "    }\n",
       "</style>\n",
       "<table border=\"1\" class=\"dataframe\">\n",
       "  <thead>\n",
       "    <tr style=\"text-align: right;\">\n",
       "      <th></th>\n",
       "      <th>acousticness</th>\n",
       "      <th>artists</th>\n",
       "      <th>danceability</th>\n",
       "      <th>duration_ms</th>\n",
       "      <th>energy</th>\n",
       "      <th>explicit</th>\n",
       "      <th>id</th>\n",
       "      <th>instrumentalness</th>\n",
       "      <th>key</th>\n",
       "      <th>liveness</th>\n",
       "      <th>loudness</th>\n",
       "      <th>mode</th>\n",
       "      <th>name</th>\n",
       "      <th>popularity</th>\n",
       "      <th>release_date</th>\n",
       "      <th>speechiness</th>\n",
       "      <th>tempo</th>\n",
       "      <th>valence</th>\n",
       "      <th>year</th>\n",
       "      <th>duration_m</th>\n",
       "    </tr>\n",
       "  </thead>\n",
       "  <tbody>\n",
       "    <tr>\n",
       "      <th>7411</th>\n",
       "      <td>0.111000</td>\n",
       "      <td>[Sound Dreamer]</td>\n",
       "      <td>0.0000</td>\n",
       "      <td>5403500</td>\n",
       "      <td>0.000099</td>\n",
       "      <td>0</td>\n",
       "      <td>7foc25ig7dibxvULPU2kBG</td>\n",
       "      <td>0.392000</td>\n",
       "      <td>2</td>\n",
       "      <td>0.1370</td>\n",
       "      <td>-21.669</td>\n",
       "      <td>1</td>\n",
       "      <td>Brown Noise - 90 Minutes</td>\n",
       "      <td>50</td>\n",
       "      <td>2013-06-05</td>\n",
       "      <td>0.0000</td>\n",
       "      <td>0.000</td>\n",
       "      <td>0.000000</td>\n",
       "      <td>2013</td>\n",
       "      <td>90.058333</td>\n",
       "    </tr>\n",
       "    <tr>\n",
       "      <th>46972</th>\n",
       "      <td>0.975000</td>\n",
       "      <td>[Sounds for Life]</td>\n",
       "      <td>0.1530</td>\n",
       "      <td>4270034</td>\n",
       "      <td>0.079200</td>\n",
       "      <td>0</td>\n",
       "      <td>605JTCltCe1IcqrGXQ294K</td>\n",
       "      <td>1.000000</td>\n",
       "      <td>10</td>\n",
       "      <td>0.1130</td>\n",
       "      <td>-23.962</td>\n",
       "      <td>0</td>\n",
       "      <td>Brown Noise for Sleep</td>\n",
       "      <td>42</td>\n",
       "      <td>2009-03-15</td>\n",
       "      <td>0.1250</td>\n",
       "      <td>132.904</td>\n",
       "      <td>0.000537</td>\n",
       "      <td>2009</td>\n",
       "      <td>71.167233</td>\n",
       "    </tr>\n",
       "    <tr>\n",
       "      <th>54511</th>\n",
       "      <td>0.000385</td>\n",
       "      <td>[Lightning, Thunder and Rain Storm]</td>\n",
       "      <td>0.1160</td>\n",
       "      <td>4269407</td>\n",
       "      <td>0.338000</td>\n",
       "      <td>0</td>\n",
       "      <td>7dYf0CsWHDLvlP6HJPs3zO</td>\n",
       "      <td>0.093500</td>\n",
       "      <td>1</td>\n",
       "      <td>0.3420</td>\n",
       "      <td>-36.638</td>\n",
       "      <td>1</td>\n",
       "      <td>Midnight Thunderstorm Part 2</td>\n",
       "      <td>44</td>\n",
       "      <td>2009-09-22</td>\n",
       "      <td>0.0648</td>\n",
       "      <td>94.453</td>\n",
       "      <td>0.029300</td>\n",
       "      <td>2009</td>\n",
       "      <td>71.156783</td>\n",
       "    </tr>\n",
       "    <tr>\n",
       "      <th>54675</th>\n",
       "      <td>0.932000</td>\n",
       "      <td>[Ocean Sounds]</td>\n",
       "      <td>0.0797</td>\n",
       "      <td>4120258</td>\n",
       "      <td>0.995000</td>\n",
       "      <td>0</td>\n",
       "      <td>2QfFLpSGF1T1pY6tq4kD7Z</td>\n",
       "      <td>0.562000</td>\n",
       "      <td>1</td>\n",
       "      <td>0.3100</td>\n",
       "      <td>-17.379</td>\n",
       "      <td>1</td>\n",
       "      <td>Ocean Waves Sounds</td>\n",
       "      <td>44</td>\n",
       "      <td>2010-07-16</td>\n",
       "      <td>0.0612</td>\n",
       "      <td>84.788</td>\n",
       "      <td>0.000010</td>\n",
       "      <td>2010</td>\n",
       "      <td>68.670967</td>\n",
       "    </tr>\n",
       "    <tr>\n",
       "      <th>125152</th>\n",
       "      <td>0.932000</td>\n",
       "      <td>[Ocean Waves For Sleep]</td>\n",
       "      <td>0.0797</td>\n",
       "      <td>4120258</td>\n",
       "      <td>0.995000</td>\n",
       "      <td>0</td>\n",
       "      <td>1saXdvEAafdRzUphXBzSHg</td>\n",
       "      <td>0.562000</td>\n",
       "      <td>1</td>\n",
       "      <td>0.3100</td>\n",
       "      <td>-17.379</td>\n",
       "      <td>1</td>\n",
       "      <td>Ocean Waves for Sleep</td>\n",
       "      <td>55</td>\n",
       "      <td>2010-07-16</td>\n",
       "      <td>0.0612</td>\n",
       "      <td>84.788</td>\n",
       "      <td>0.000010</td>\n",
       "      <td>2010</td>\n",
       "      <td>68.670967</td>\n",
       "    </tr>\n",
       "    <tr>\n",
       "      <th>38491</th>\n",
       "      <td>0.003670</td>\n",
       "      <td>[Sleep]</td>\n",
       "      <td>0.1600</td>\n",
       "      <td>3816373</td>\n",
       "      <td>0.572000</td>\n",
       "      <td>0</td>\n",
       "      <td>1vhvheW4R0KbK6Kr3NFplW</td>\n",
       "      <td>0.745000</td>\n",
       "      <td>5</td>\n",
       "      <td>0.0952</td>\n",
       "      <td>-6.949</td>\n",
       "      <td>1</td>\n",
       "      <td>Dopesmoker</td>\n",
       "      <td>43</td>\n",
       "      <td>2003</td>\n",
       "      <td>0.0321</td>\n",
       "      <td>96.926</td>\n",
       "      <td>0.093200</td>\n",
       "      <td>2003</td>\n",
       "      <td>63.606217</td>\n",
       "    </tr>\n",
       "    <tr>\n",
       "      <th>140784</th>\n",
       "      <td>0.976000</td>\n",
       "      <td>[Brian Eno]</td>\n",
       "      <td>0.0918</td>\n",
       "      <td>3650800</td>\n",
       "      <td>0.056900</td>\n",
       "      <td>0</td>\n",
       "      <td>4t3Yh6tKkxXrc458pNI7zZ</td>\n",
       "      <td>0.884000</td>\n",
       "      <td>0</td>\n",
       "      <td>0.0842</td>\n",
       "      <td>-31.808</td>\n",
       "      <td>1</td>\n",
       "      <td>Thursday Afternoon - 2005 Digital Remaster</td>\n",
       "      <td>39</td>\n",
       "      <td>1985-10-01</td>\n",
       "      <td>0.0358</td>\n",
       "      <td>81.944</td>\n",
       "      <td>0.052800</td>\n",
       "      <td>1985</td>\n",
       "      <td>60.846667</td>\n",
       "    </tr>\n",
       "    <tr>\n",
       "      <th>72889</th>\n",
       "      <td>0.601000</td>\n",
       "      <td>[Environments]</td>\n",
       "      <td>0.1590</td>\n",
       "      <td>3557955</td>\n",
       "      <td>0.562000</td>\n",
       "      <td>0</td>\n",
       "      <td>2rRuuVflvA23Fcl8KezNAF</td>\n",
       "      <td>0.611000</td>\n",
       "      <td>10</td>\n",
       "      <td>0.1070</td>\n",
       "      <td>-22.135</td>\n",
       "      <td>0</td>\n",
       "      <td>The Psychologically Ultimate Seashore (16 rpm)</td>\n",
       "      <td>19</td>\n",
       "      <td>1969-01-01</td>\n",
       "      <td>0.1600</td>\n",
       "      <td>129.863</td>\n",
       "      <td>0.012600</td>\n",
       "      <td>1969</td>\n",
       "      <td>59.299250</td>\n",
       "    </tr>\n",
       "    <tr>\n",
       "      <th>10573</th>\n",
       "      <td>0.900000</td>\n",
       "      <td>[Umm Kulthum]</td>\n",
       "      <td>0.4100</td>\n",
       "      <td>3551152</td>\n",
       "      <td>0.451000</td>\n",
       "      <td>0</td>\n",
       "      <td>0AsT5HMyXuqa8qWMLv0YZb</td>\n",
       "      <td>0.000034</td>\n",
       "      <td>8</td>\n",
       "      <td>0.7030</td>\n",
       "      <td>-10.213</td>\n",
       "      <td>0</td>\n",
       "      <td>Enta Oumry</td>\n",
       "      <td>26</td>\n",
       "      <td>1964-02-06</td>\n",
       "      <td>0.1260</td>\n",
       "      <td>118.125</td>\n",
       "      <td>0.408000</td>\n",
       "      <td>1964</td>\n",
       "      <td>59.185867</td>\n",
       "    </tr>\n",
       "    <tr>\n",
       "      <th>118777</th>\n",
       "      <td>0.891000</td>\n",
       "      <td>[Umm Kulthum]</td>\n",
       "      <td>0.3450</td>\n",
       "      <td>3523619</td>\n",
       "      <td>0.723000</td>\n",
       "      <td>0</td>\n",
       "      <td>1gXsu5iZHLpUr1zvXEfOxw</td>\n",
       "      <td>0.769000</td>\n",
       "      <td>9</td>\n",
       "      <td>0.3930</td>\n",
       "      <td>-7.801</td>\n",
       "      <td>1</td>\n",
       "      <td>Naheg El Berda</td>\n",
       "      <td>0</td>\n",
       "      <td>1946-01-01</td>\n",
       "      <td>0.0996</td>\n",
       "      <td>115.550</td>\n",
       "      <td>0.299000</td>\n",
       "      <td>1946</td>\n",
       "      <td>58.726983</td>\n",
       "    </tr>\n",
       "  </tbody>\n",
       "</table>\n",
       "</div>"
      ],
      "text/plain": [
       "        acousticness                              artists  danceability  \\\n",
       "7411        0.111000                      [Sound Dreamer]        0.0000   \n",
       "46972       0.975000                    [Sounds for Life]        0.1530   \n",
       "54511       0.000385  [Lightning, Thunder and Rain Storm]        0.1160   \n",
       "54675       0.932000                       [Ocean Sounds]        0.0797   \n",
       "125152      0.932000              [Ocean Waves For Sleep]        0.0797   \n",
       "38491       0.003670                              [Sleep]        0.1600   \n",
       "140784      0.976000                          [Brian Eno]        0.0918   \n",
       "72889       0.601000                       [Environments]        0.1590   \n",
       "10573       0.900000                        [Umm Kulthum]        0.4100   \n",
       "118777      0.891000                        [Umm Kulthum]        0.3450   \n",
       "\n",
       "        duration_ms    energy  explicit                      id  \\\n",
       "7411        5403500  0.000099         0  7foc25ig7dibxvULPU2kBG   \n",
       "46972       4270034  0.079200         0  605JTCltCe1IcqrGXQ294K   \n",
       "54511       4269407  0.338000         0  7dYf0CsWHDLvlP6HJPs3zO   \n",
       "54675       4120258  0.995000         0  2QfFLpSGF1T1pY6tq4kD7Z   \n",
       "125152      4120258  0.995000         0  1saXdvEAafdRzUphXBzSHg   \n",
       "38491       3816373  0.572000         0  1vhvheW4R0KbK6Kr3NFplW   \n",
       "140784      3650800  0.056900         0  4t3Yh6tKkxXrc458pNI7zZ   \n",
       "72889       3557955  0.562000         0  2rRuuVflvA23Fcl8KezNAF   \n",
       "10573       3551152  0.451000         0  0AsT5HMyXuqa8qWMLv0YZb   \n",
       "118777      3523619  0.723000         0  1gXsu5iZHLpUr1zvXEfOxw   \n",
       "\n",
       "        instrumentalness  key  liveness  loudness  mode  \\\n",
       "7411            0.392000    2    0.1370   -21.669     1   \n",
       "46972           1.000000   10    0.1130   -23.962     0   \n",
       "54511           0.093500    1    0.3420   -36.638     1   \n",
       "54675           0.562000    1    0.3100   -17.379     1   \n",
       "125152          0.562000    1    0.3100   -17.379     1   \n",
       "38491           0.745000    5    0.0952    -6.949     1   \n",
       "140784          0.884000    0    0.0842   -31.808     1   \n",
       "72889           0.611000   10    0.1070   -22.135     0   \n",
       "10573           0.000034    8    0.7030   -10.213     0   \n",
       "118777          0.769000    9    0.3930    -7.801     1   \n",
       "\n",
       "                                                  name  popularity  \\\n",
       "7411                          Brown Noise - 90 Minutes          50   \n",
       "46972                            Brown Noise for Sleep          42   \n",
       "54511                     Midnight Thunderstorm Part 2          44   \n",
       "54675                               Ocean Waves Sounds          44   \n",
       "125152                           Ocean Waves for Sleep          55   \n",
       "38491                                       Dopesmoker          43   \n",
       "140784      Thursday Afternoon - 2005 Digital Remaster          39   \n",
       "72889   The Psychologically Ultimate Seashore (16 rpm)          19   \n",
       "10573                                       Enta Oumry          26   \n",
       "118777                                  Naheg El Berda           0   \n",
       "\n",
       "       release_date  speechiness    tempo   valence  year  duration_m  \n",
       "7411     2013-06-05       0.0000    0.000  0.000000  2013   90.058333  \n",
       "46972    2009-03-15       0.1250  132.904  0.000537  2009   71.167233  \n",
       "54511    2009-09-22       0.0648   94.453  0.029300  2009   71.156783  \n",
       "54675    2010-07-16       0.0612   84.788  0.000010  2010   68.670967  \n",
       "125152   2010-07-16       0.0612   84.788  0.000010  2010   68.670967  \n",
       "38491          2003       0.0321   96.926  0.093200  2003   63.606217  \n",
       "140784   1985-10-01       0.0358   81.944  0.052800  1985   60.846667  \n",
       "72889    1969-01-01       0.1600  129.863  0.012600  1969   59.299250  \n",
       "10573    1964-02-06       0.1260  118.125  0.408000  1964   59.185867  \n",
       "118777   1946-01-01       0.0996  115.550  0.299000  1946   58.726983  "
      ]
     },
     "execution_count": 161,
     "metadata": {},
     "output_type": "execute_result"
    }
   ],
   "source": [
    "# Your code goes here 💪\n",
    "df.nlargest(n=10, columns=['duration_ms'])"
   ]
  },
  {
   "cell_type": "markdown",
   "metadata": {},
   "source": [
    "## 9. How long would it take to listen to all the songs?"
   ]
  },
  {
   "cell_type": "code",
   "execution_count": 151,
   "metadata": {},
   "outputs": [
    {
     "name": "stdout",
     "output_type": "stream",
     "text": [
      "455.06931788194447 days\n"
     ]
    }
   ],
   "source": [
    "# Your code goes here 💪\n",
    "total_ms = df['duration_ms'].sum()\n",
    "total_day = total_ms / (1000*60*60*24)\n",
    "print(total_day, 'days')"
   ]
  },
  {
   "cell_type": "markdown",
   "metadata": {},
   "source": [
    "This length is expressed in milliseconds, let's convert to days!"
   ]
  },
  {
   "cell_type": "markdown",
   "metadata": {},
   "source": [
    "## 10. What are the top 10 most popular songs? We would like a DataFrame with only the columns `artists`, `name` and `popularity` as output!"
   ]
  },
  {
   "cell_type": "code",
   "execution_count": 152,
   "metadata": {},
   "outputs": [
    {
     "data": {
      "text/html": [
       "<div>\n",
       "<style scoped>\n",
       "    .dataframe tbody tr th:only-of-type {\n",
       "        vertical-align: middle;\n",
       "    }\n",
       "\n",
       "    .dataframe tbody tr th {\n",
       "        vertical-align: top;\n",
       "    }\n",
       "\n",
       "    .dataframe thead th {\n",
       "        text-align: right;\n",
       "    }\n",
       "</style>\n",
       "<table border=\"1\" class=\"dataframe\">\n",
       "  <thead>\n",
       "    <tr style=\"text-align: right;\">\n",
       "      <th></th>\n",
       "      <th>artists</th>\n",
       "      <th>name</th>\n",
       "      <th>popularity</th>\n",
       "    </tr>\n",
       "  </thead>\n",
       "  <tbody>\n",
       "    <tr>\n",
       "      <th>87942</th>\n",
       "      <td>[The Weeknd]</td>\n",
       "      <td>Blinding Lights</td>\n",
       "      <td>100</td>\n",
       "    </tr>\n",
       "    <tr>\n",
       "      <th>87940</th>\n",
       "      <td>[DaBaby, Roddy Ricch]</td>\n",
       "      <td>ROCKSTAR (feat. Roddy Ricch)</td>\n",
       "      <td>99</td>\n",
       "    </tr>\n",
       "    <tr>\n",
       "      <th>87949</th>\n",
       "      <td>[Powfu, beabadoobee]</td>\n",
       "      <td>death bed (coffee for your head) (feat. beabad...</td>\n",
       "      <td>97</td>\n",
       "    </tr>\n",
       "    <tr>\n",
       "      <th>87941</th>\n",
       "      <td>[THE SCOTTS, Travis Scott, Kid Cudi]</td>\n",
       "      <td>THE SCOTTS</td>\n",
       "      <td>96</td>\n",
       "    </tr>\n",
       "    <tr>\n",
       "      <th>87840</th>\n",
       "      <td>[Roddy Ricch]</td>\n",
       "      <td>The Box</td>\n",
       "      <td>95</td>\n",
       "    </tr>\n",
       "    <tr>\n",
       "      <th>87844</th>\n",
       "      <td>[BENEE, Gus Dapperton]</td>\n",
       "      <td>Supalonely</td>\n",
       "      <td>95</td>\n",
       "    </tr>\n",
       "    <tr>\n",
       "      <th>87852</th>\n",
       "      <td>[Surf Mesa, Emilee]</td>\n",
       "      <td>ily (i love you baby) (feat. Emilee)</td>\n",
       "      <td>95</td>\n",
       "    </tr>\n",
       "    <tr>\n",
       "      <th>87946</th>\n",
       "      <td>[Drake]</td>\n",
       "      <td>Toosie Slide</td>\n",
       "      <td>95</td>\n",
       "    </tr>\n",
       "    <tr>\n",
       "      <th>87858</th>\n",
       "      <td>[Tones And I]</td>\n",
       "      <td>Dance Monkey</td>\n",
       "      <td>94</td>\n",
       "    </tr>\n",
       "    <tr>\n",
       "      <th>87943</th>\n",
       "      <td>[StaySolidRocky]</td>\n",
       "      <td>Party Girl</td>\n",
       "      <td>94</td>\n",
       "    </tr>\n",
       "  </tbody>\n",
       "</table>\n",
       "</div>"
      ],
      "text/plain": [
       "                                    artists  \\\n",
       "87942                          [The Weeknd]   \n",
       "87940                 [DaBaby, Roddy Ricch]   \n",
       "87949                  [Powfu, beabadoobee]   \n",
       "87941  [THE SCOTTS, Travis Scott, Kid Cudi]   \n",
       "87840                         [Roddy Ricch]   \n",
       "87844                [BENEE, Gus Dapperton]   \n",
       "87852                   [Surf Mesa, Emilee]   \n",
       "87946                               [Drake]   \n",
       "87858                         [Tones And I]   \n",
       "87943                      [StaySolidRocky]   \n",
       "\n",
       "                                                    name  popularity  \n",
       "87942                                    Blinding Lights         100  \n",
       "87940                       ROCKSTAR (feat. Roddy Ricch)          99  \n",
       "87949  death bed (coffee for your head) (feat. beabad...          97  \n",
       "87941                                         THE SCOTTS          96  \n",
       "87840                                            The Box          95  \n",
       "87844                                         Supalonely          95  \n",
       "87852               ily (i love you baby) (feat. Emilee)          95  \n",
       "87946                                       Toosie Slide          95  \n",
       "87858                                       Dance Monkey          94  \n",
       "87943                                         Party Girl          94  "
      ]
     },
     "execution_count": 152,
     "metadata": {},
     "output_type": "execute_result"
    }
   ],
   "source": [
    "# Your code goes here 💪\n",
    "df[['artists', 'name', 'popularity']].nlargest(n=10, columns=['popularity'])"
   ]
  },
  {
   "cell_type": "markdown",
   "metadata": {},
   "source": [
    "## 11. What is the most popular song before 2000?"
   ]
  },
  {
   "cell_type": "code",
   "execution_count": 153,
   "metadata": {},
   "outputs": [
    {
     "data": {
      "text/html": [
       "<div>\n",
       "<style scoped>\n",
       "    .dataframe tbody tr th:only-of-type {\n",
       "        vertical-align: middle;\n",
       "    }\n",
       "\n",
       "    .dataframe tbody tr th {\n",
       "        vertical-align: top;\n",
       "    }\n",
       "\n",
       "    .dataframe thead th {\n",
       "        text-align: right;\n",
       "    }\n",
       "</style>\n",
       "<table border=\"1\" class=\"dataframe\">\n",
       "  <thead>\n",
       "    <tr style=\"text-align: right;\">\n",
       "      <th></th>\n",
       "      <th>acousticness</th>\n",
       "      <th>artists</th>\n",
       "      <th>danceability</th>\n",
       "      <th>duration_ms</th>\n",
       "      <th>energy</th>\n",
       "      <th>explicit</th>\n",
       "      <th>id</th>\n",
       "      <th>instrumentalness</th>\n",
       "      <th>key</th>\n",
       "      <th>liveness</th>\n",
       "      <th>loudness</th>\n",
       "      <th>mode</th>\n",
       "      <th>name</th>\n",
       "      <th>popularity</th>\n",
       "      <th>release_date</th>\n",
       "      <th>speechiness</th>\n",
       "      <th>tempo</th>\n",
       "      <th>valence</th>\n",
       "      <th>year</th>\n",
       "      <th>duration_m</th>\n",
       "    </tr>\n",
       "  </thead>\n",
       "  <tbody>\n",
       "    <tr>\n",
       "      <th>82840</th>\n",
       "      <td>0.0339</td>\n",
       "      <td>[The Beatles]</td>\n",
       "      <td>0.557</td>\n",
       "      <td>185733</td>\n",
       "      <td>0.54</td>\n",
       "      <td>0</td>\n",
       "      <td>6dGnYIeXmHdcikdzNNDMm2</td>\n",
       "      <td>0.00248</td>\n",
       "      <td>9</td>\n",
       "      <td>0.179</td>\n",
       "      <td>-10.484</td>\n",
       "      <td>1</td>\n",
       "      <td>Here Comes The Sun - Remastered 2009</td>\n",
       "      <td>83</td>\n",
       "      <td>1969-09-26</td>\n",
       "      <td>0.0347</td>\n",
       "      <td>129.171</td>\n",
       "      <td>0.394</td>\n",
       "      <td>1969</td>\n",
       "      <td>3.09555</td>\n",
       "    </tr>\n",
       "  </tbody>\n",
       "</table>\n",
       "</div>"
      ],
      "text/plain": [
       "       acousticness        artists  danceability  duration_ms  energy  \\\n",
       "82840        0.0339  [The Beatles]         0.557       185733    0.54   \n",
       "\n",
       "       explicit                      id  instrumentalness  key  liveness  \\\n",
       "82840         0  6dGnYIeXmHdcikdzNNDMm2           0.00248    9     0.179   \n",
       "\n",
       "       loudness  mode                                  name  popularity  \\\n",
       "82840   -10.484     1  Here Comes The Sun - Remastered 2009          83   \n",
       "\n",
       "      release_date  speechiness    tempo  valence  year  duration_m  \n",
       "82840   1969-09-26       0.0347  129.171    0.394  1969     3.09555  "
      ]
     },
     "execution_count": 153,
     "metadata": {},
     "output_type": "execute_result"
    }
   ],
   "source": [
    "# Your code goes here 💪\n",
    "df[df['release_date'] < '2000-1-1'].nlargest(n=1, columns=['popularity'])"
   ]
  },
  {
   "cell_type": "markdown",
   "metadata": {},
   "source": [
    "## 12. Can you plot the distribution of `popularity`?"
   ]
  },
  {
   "cell_type": "code",
   "execution_count": 154,
   "metadata": {},
   "outputs": [
    {
     "data": {
      "text/plain": [
       "(array([39175., 12447., 22420., 27921., 29465., 21172., 12768.,  3969.,\n",
       "          528.,    44.]),\n",
       " array([  0.,  10.,  20.,  30.,  40.,  50.,  60.,  70.,  80.,  90., 100.]),\n",
       " <BarContainer object of 10 artists>)"
      ]
     },
     "execution_count": 154,
     "metadata": {},
     "output_type": "execute_result"
    },
    {
     "data": {
      "image/png": "[encoded data removed]",
      "text/plain": [
       "<Figure size 640x480 with 1 Axes>"
      ]
     },
     "metadata": {},
     "output_type": "display_data"
    }
   ],
   "source": [
    "# Your code goes here 💪\n",
    "plt.hist(df['popularity'])"
   ]
  },
  {
   "cell_type": "markdown",
   "metadata": {},
   "source": [
    "## 13. What are the top 10 artists in terms of number of songs?"
   ]
  },
  {
   "cell_type": "code",
   "execution_count": 155,
   "metadata": {},
   "outputs": [
    {
     "data": {
      "text/plain": [
       "Francisco Canaro           2234\n",
       "Эрнест Хемингуэй           1215\n",
       "Frédéric Chopin            1035\n",
       "Ludwig van Beethoven        976\n",
       "Wolfgang Amadeus Mozart     938\n",
       "Johann Sebastian Bach       868\n",
       "Эрих Мария Ремарк           781\n",
       "Igor Stravinsky             739\n",
       "Frank Sinatra               732\n",
       "Giuseppe Verdi              691\n",
       "Name: artists, dtype: int64"
      ]
     },
     "execution_count": 155,
     "metadata": {},
     "output_type": "execute_result"
    }
   ],
   "source": [
    "# Your code goes here 💪\n",
    "explode_df = df.explode('artists')\n",
    "explode_df['artists'].value_counts().nlargest(n=10)"
   ]
  },
  {
   "cell_type": "markdown",
   "metadata": {},
   "source": [
    "## 14. [Follow-up] can you make a bar chart out of this result?"
   ]
  },
  {
   "cell_type": "code",
   "execution_count": 156,
   "metadata": {},
   "outputs": [
    {
     "data": {
      "text/plain": [
       "<AxesSubplot:>"
      ]
     },
     "execution_count": 156,
     "metadata": {},
     "output_type": "execute_result"
    },
    {
     "data": {
      "image/png": "[encoded data removed]",
      "text/plain": [
       "<Figure size 640x480 with 1 Axes>"
      ]
     },
     "metadata": {},
     "output_type": "display_data"
    }
   ],
   "source": [
    "# Your code goes here 💪\n",
    "#plt.bar(top10[artists], top10)\n",
    "explode_df['artists'].value_counts().nlargest(n=10).plot(kind='bar')\n"
   ]
  },
  {
   "cell_type": "markdown",
   "metadata": {},
   "source": [
    "## 15. How many songs by key?"
   ]
  },
  {
   "cell_type": "code",
   "execution_count": 157,
   "metadata": {},
   "outputs": [
    {
     "data": {
      "text/plain": [
       "0     21499\n",
       "1     12816\n",
       "2     18821\n",
       "3      7185\n",
       "4     12921\n",
       "5     16336\n",
       "6      8586\n",
       "7     20757\n",
       "8     10711\n",
       "9     17628\n",
       "10    12056\n",
       "11    10593\n",
       "Name: key, dtype: int64"
      ]
     },
     "execution_count": 157,
     "metadata": {},
     "output_type": "execute_result"
    }
   ],
   "source": [
    "# Your code goes here 💪\n",
    "songByKey = df['key'].value_counts()\n",
    "songByKey = songByKey.sort_index()\n",
    "songByKey"
   ]
  },
  {
   "cell_type": "markdown",
   "metadata": {},
   "source": [
    "## 16. [Follow-up] Can you plot a bar chart using Seaborn? Make sure the keys are sorted in a descending order."
   ]
  },
  {
   "cell_type": "code",
   "execution_count": 158,
   "metadata": {},
   "outputs": [
    {
     "name": "stderr",
     "output_type": "stream",
     "text": [
      "D:\\anaconda\\lib\\site-packages\\seaborn\\_decorators.py:36: FutureWarning: Pass the following variables as keyword args: x, y. From version 0.12, the only valid positional argument will be `data`, and passing other arguments without an explicit keyword will result in an error or misinterpretation.\n",
      "  warnings.warn(\n"
     ]
    },
    {
     "data": {
      "text/plain": [
       "<AxesSubplot:>"
      ]
     },
     "execution_count": 158,
     "metadata": {},
     "output_type": "execute_result"
    },
    {
     "data": {
      "image/png": "[encoded data removed]",
      "text/plain": [
       "<Figure size 640x480 with 1 Axes>"
      ]
     },
     "metadata": {},
     "output_type": "display_data"
    }
   ],
   "source": [
    "# Your code goes here 💪\n",
    "sns.barplot(songByKey.index, songByKey.values)"
   ]
  },
  {
   "cell_type": "markdown",
   "metadata": {},
   "source": [
    "## 17. Can you plot a line graph representing the annual number of songs since 1921?"
   ]
  },
  {
   "cell_type": "code",
   "execution_count": 159,
   "metadata": {},
   "outputs": [
    {
     "name": "stderr",
     "output_type": "stream",
     "text": [
      "D:\\anaconda\\lib\\site-packages\\seaborn\\_decorators.py:36: FutureWarning: Pass the following variables as keyword args: x, y. From version 0.12, the only valid positional argument will be `data`, and passing other arguments without an explicit keyword will result in an error or misinterpretation.\n",
      "  warnings.warn(\n"
     ]
    },
    {
     "data": {
      "text/plain": [
       "<AxesSubplot:>"
      ]
     },
     "execution_count": 159,
     "metadata": {},
     "output_type": "execute_result"
    },
    {
     "data": {
      "image/png": "[encoded data removed]",
      "text/plain": [
       "<Figure size 640x480 with 1 Axes>"
      ]
     },
     "metadata": {},
     "output_type": "display_data"
    }
   ],
   "source": [
    "# Your code goes here 💪\n",
    "songsSince1921 = df[df['year'] >= 1921]\n",
    "songByYear = songsSince1921['year'].value_counts()\n",
    "sns.lineplot(songByYear.index, songByYear.values)"
   ]
  },
  {
   "cell_type": "markdown",
   "metadata": {},
   "source": [
    "Last question! 👇"
   ]
  },
  {
   "cell_type": "markdown",
   "metadata": {},
   "source": [
    "## 18. Can you visually check if there is relationship between `year` and `popularity`?"
   ]
  },
  {
   "cell_type": "code",
   "execution_count": 160,
   "metadata": {},
   "outputs": [
    {
     "data": {
      "text/plain": [
       "<AxesSubplot:xlabel='year'>"
      ]
     },
     "execution_count": 160,
     "metadata": {},
     "output_type": "execute_result"
    },
    {
     "data": {
      "image/png": "[encoded data removed]",
      "text/plain": [
       "<Figure size 640x480 with 1 Axes>"
      ]
     },
     "metadata": {},
     "output_type": "display_data"
    }
   ],
   "source": [
    "# Your code goes here 💪\n",
    "df[['year', 'popularity']].groupby(by=[\"year\"]).mean().plot()"
   ]
  },
  {
   "cell_type": "markdown",
   "metadata": {},
   "source": [
    "It seems that the popularity score has increased through time...."
   ]
  }
 ],
 "metadata": {
  "kernelspec": {
   "display_name": "Python 3 (ipykernel)",
   "language": "python",
   "name": "python3"
  },
  "language_info": {
   "codemirror_mode": {
    "name": "ipython",
    "version": 3
   },
   "file_extension": ".py",
   "mimetype": "text/x-python",
   "name": "python",
   "nbconvert_exporter": "python",
   "pygments_lexer": "ipython3",
   "version": "3.9.13"
  },
  "toc": {
   "base_numbering": 1,
   "nav_menu": {},
   "number_sections": true,
   "sideBar": true,
   "skip_h1_title": false,
   "title_cell": "Table of Contents",
   "title_sidebar": "Contents",
   "toc_cell": false,
   "toc_position": {},
   "toc_section_display": true,
   "toc_window_display": false
  },
  "varInspector": {
   "cols": {
    "lenName": 16,
    "lenType": 16,
    "lenVar": 40
   },
   "kernels_config": {
    "python": {
     "delete_cmd_postfix": "",
     "delete_cmd_prefix": "del ",
     "library": "var_list.py",
     "varRefreshCmd": "print(var_dic_list())"
    },
    "r": {
     "delete_cmd_postfix": ") ",
     "delete_cmd_prefix": "rm(",
     "library": "var_list.r",
     "varRefreshCmd": "cat(var_dic_list()) "
    }
   },
   "types_to_exclude": [
    "module",
    "function",
    "builtin_function_or_method",
    "instance",
    "_Feature"
   ],
   "window_display": false
  }
 },
 "nbformat": 4,
 "nbformat_minor": 4
}
